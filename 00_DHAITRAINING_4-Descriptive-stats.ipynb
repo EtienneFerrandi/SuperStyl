{
 "cells": [
  {
   "cell_type": "markdown",
   "metadata": {},
   "source": [
    "## Statistiques descriptives :\n",
    "\n",
    "Commençons tout d’abord par proposer quelques statistiques descriptives sur notrecorpus. Même si nous réaliserons des normalisations sur la table de fréquences afin de réduire la différence entre ces longueurs de textes, il demeure important de voir si ces textes ne varient pas trop.\n",
    "\n",
    "Nous savons actuellement que Lennon et McCartney ont écrits 60 chansons chacun (= 120) et 60 chansons sont affichées comme étant le fruit de leur collaboration d'écriture. \n",
    "\n",
    "**Objectifs** :\n",
    "\n",
    "   - Dénombrement du nombre de mots par chanson et comparaison de la longueur des textes\n",
    "   - Analyse des principaux indices : moyenne, max, min, écart-type, etc.\n",
    "   - Visualisations.\n",
    "   - Boxplot pour comparaison entre auteurs et écriture collaborative.\n",
    "   - Retour réflexif.\n",
    "   - Exploration d'autres pistes.\n",
    "---"
   ]
  },
  {
   "cell_type": "code",
   "execution_count": 1,
   "metadata": {},
   "outputs": [
    {
     "data": {
      "text/html": [
       "<div>\n",
       "<style scoped>\n",
       "    .dataframe tbody tr th:only-of-type {\n",
       "        vertical-align: middle;\n",
       "    }\n",
       "\n",
       "    .dataframe tbody tr th {\n",
       "        vertical-align: top;\n",
       "    }\n",
       "\n",
       "    .dataframe thead th {\n",
       "        text-align: right;\n",
       "    }\n",
       "</style>\n",
       "<table border=\"1\" class=\"dataframe\">\n",
       "  <thead>\n",
       "    <tr style=\"text-align: right;\">\n",
       "      <th></th>\n",
       "      <th>Unnamed: 0</th>\n",
       "      <th>Song</th>\n",
       "      <th>Album Debut</th>\n",
       "      <th>Songwriter(s)</th>\n",
       "      <th>Lead Vocal(s)</th>\n",
       "      <th>Year</th>\n",
       "      <th>Lyrics</th>\n",
       "      <th>words</th>\n",
       "      <th>lemma</th>\n",
       "      <th>pos</th>\n",
       "    </tr>\n",
       "  </thead>\n",
       "  <tbody>\n",
       "    <tr>\n",
       "      <th>0</th>\n",
       "      <td>0</td>\n",
       "      <td>\"Across the Universe\"</td>\n",
       "      <td>Let It Be</td>\n",
       "      <td>Lennon</td>\n",
       "      <td>Lennon</td>\n",
       "      <td>1968</td>\n",
       "      <td>Words are flowing out like endless rain into a...</td>\n",
       "      <td>Words</td>\n",
       "      <td>['word']</td>\n",
       "      <td>['NOUN']</td>\n",
       "    </tr>\n",
       "    <tr>\n",
       "      <th>1</th>\n",
       "      <td>1</td>\n",
       "      <td>\"Across the Universe\"</td>\n",
       "      <td>Let It Be</td>\n",
       "      <td>Lennon</td>\n",
       "      <td>Lennon</td>\n",
       "      <td>1968</td>\n",
       "      <td>Words are flowing out like endless rain into a...</td>\n",
       "      <td>are</td>\n",
       "      <td>['be']</td>\n",
       "      <td>['AUX']</td>\n",
       "    </tr>\n",
       "    <tr>\n",
       "      <th>2</th>\n",
       "      <td>2</td>\n",
       "      <td>\"Across the Universe\"</td>\n",
       "      <td>Let It Be</td>\n",
       "      <td>Lennon</td>\n",
       "      <td>Lennon</td>\n",
       "      <td>1968</td>\n",
       "      <td>Words are flowing out like endless rain into a...</td>\n",
       "      <td>flowing</td>\n",
       "      <td>['flow']</td>\n",
       "      <td>['VERB']</td>\n",
       "    </tr>\n",
       "    <tr>\n",
       "      <th>3</th>\n",
       "      <td>3</td>\n",
       "      <td>\"Across the Universe\"</td>\n",
       "      <td>Let It Be</td>\n",
       "      <td>Lennon</td>\n",
       "      <td>Lennon</td>\n",
       "      <td>1968</td>\n",
       "      <td>Words are flowing out like endless rain into a...</td>\n",
       "      <td>out</td>\n",
       "      <td>['out']</td>\n",
       "      <td>['ADP']</td>\n",
       "    </tr>\n",
       "    <tr>\n",
       "      <th>4</th>\n",
       "      <td>4</td>\n",
       "      <td>\"Across the Universe\"</td>\n",
       "      <td>Let It Be</td>\n",
       "      <td>Lennon</td>\n",
       "      <td>Lennon</td>\n",
       "      <td>1968</td>\n",
       "      <td>Words are flowing out like endless rain into a...</td>\n",
       "      <td>like</td>\n",
       "      <td>['like']</td>\n",
       "      <td>['INTJ']</td>\n",
       "    </tr>\n",
       "  </tbody>\n",
       "</table>\n",
       "</div>"
      ],
      "text/plain": [
       "   Unnamed: 0                   Song Album Debut Songwriter(s) Lead Vocal(s)  \\\n",
       "0           0  \"Across the Universe\"   Let It Be        Lennon        Lennon   \n",
       "1           1  \"Across the Universe\"   Let It Be        Lennon        Lennon   \n",
       "2           2  \"Across the Universe\"   Let It Be        Lennon        Lennon   \n",
       "3           3  \"Across the Universe\"   Let It Be        Lennon        Lennon   \n",
       "4           4  \"Across the Universe\"   Let It Be        Lennon        Lennon   \n",
       "\n",
       "   Year                                             Lyrics    words     lemma  \\\n",
       "0  1968  Words are flowing out like endless rain into a...    Words  ['word']   \n",
       "1  1968  Words are flowing out like endless rain into a...      are    ['be']   \n",
       "2  1968  Words are flowing out like endless rain into a...  flowing  ['flow']   \n",
       "3  1968  Words are flowing out like endless rain into a...      out   ['out']   \n",
       "4  1968  Words are flowing out like endless rain into a...     like  ['like']   \n",
       "\n",
       "        pos  \n",
       "0  ['NOUN']  \n",
       "1   ['AUX']  \n",
       "2  ['VERB']  \n",
       "3   ['ADP']  \n",
       "4  ['INTJ']  "
      ]
     },
     "execution_count": 1,
     "metadata": {},
     "output_type": "execute_result"
    }
   ],
   "source": [
    "# Librairie pandas (manipulation de données csv, dataframe, etc.)\n",
    "import pandas as pd\n",
    "\n",
    "# Import et lecture du corpus :\n",
    "corpus = pd.read_csv('corpus_tokmorph.csv')\n",
    "corpus.head()"
   ]
  },
  {
   "cell_type": "code",
   "execution_count": 2,
   "metadata": {},
   "outputs": [
    {
     "data": {
      "text/html": [
       "<div>\n",
       "<style scoped>\n",
       "    .dataframe tbody tr th:only-of-type {\n",
       "        vertical-align: middle;\n",
       "    }\n",
       "\n",
       "    .dataframe tbody tr th {\n",
       "        vertical-align: top;\n",
       "    }\n",
       "\n",
       "    .dataframe thead th {\n",
       "        text-align: right;\n",
       "    }\n",
       "</style>\n",
       "<table border=\"1\" class=\"dataframe\">\n",
       "  <thead>\n",
       "    <tr style=\"text-align: right;\">\n",
       "      <th></th>\n",
       "      <th>Song</th>\n",
       "      <th>Album Debut</th>\n",
       "      <th>Songwriter(s)</th>\n",
       "      <th>Lead Vocal(s)</th>\n",
       "      <th>Year</th>\n",
       "      <th>Lyrics</th>\n",
       "      <th>words</th>\n",
       "      <th>lemma</th>\n",
       "      <th>pos</th>\n",
       "    </tr>\n",
       "  </thead>\n",
       "  <tbody>\n",
       "    <tr>\n",
       "      <th>0</th>\n",
       "      <td>\"Across the Universe\"</td>\n",
       "      <td>Let It Be</td>\n",
       "      <td>Lennon</td>\n",
       "      <td>Lennon</td>\n",
       "      <td>1968</td>\n",
       "      <td>Words are flowing out like endless rain into a...</td>\n",
       "      <td>Words</td>\n",
       "      <td>['word']</td>\n",
       "      <td>['NOUN']</td>\n",
       "    </tr>\n",
       "    <tr>\n",
       "      <th>1</th>\n",
       "      <td>\"Across the Universe\"</td>\n",
       "      <td>Let It Be</td>\n",
       "      <td>Lennon</td>\n",
       "      <td>Lennon</td>\n",
       "      <td>1968</td>\n",
       "      <td>Words are flowing out like endless rain into a...</td>\n",
       "      <td>are</td>\n",
       "      <td>['be']</td>\n",
       "      <td>['AUX']</td>\n",
       "    </tr>\n",
       "    <tr>\n",
       "      <th>2</th>\n",
       "      <td>\"Across the Universe\"</td>\n",
       "      <td>Let It Be</td>\n",
       "      <td>Lennon</td>\n",
       "      <td>Lennon</td>\n",
       "      <td>1968</td>\n",
       "      <td>Words are flowing out like endless rain into a...</td>\n",
       "      <td>flowing</td>\n",
       "      <td>['flow']</td>\n",
       "      <td>['VERB']</td>\n",
       "    </tr>\n",
       "    <tr>\n",
       "      <th>3</th>\n",
       "      <td>\"Across the Universe\"</td>\n",
       "      <td>Let It Be</td>\n",
       "      <td>Lennon</td>\n",
       "      <td>Lennon</td>\n",
       "      <td>1968</td>\n",
       "      <td>Words are flowing out like endless rain into a...</td>\n",
       "      <td>out</td>\n",
       "      <td>['out']</td>\n",
       "      <td>['ADP']</td>\n",
       "    </tr>\n",
       "    <tr>\n",
       "      <th>4</th>\n",
       "      <td>\"Across the Universe\"</td>\n",
       "      <td>Let It Be</td>\n",
       "      <td>Lennon</td>\n",
       "      <td>Lennon</td>\n",
       "      <td>1968</td>\n",
       "      <td>Words are flowing out like endless rain into a...</td>\n",
       "      <td>like</td>\n",
       "      <td>['like']</td>\n",
       "      <td>['INTJ']</td>\n",
       "    </tr>\n",
       "  </tbody>\n",
       "</table>\n",
       "</div>"
      ],
      "text/plain": [
       "                    Song Album Debut Songwriter(s) Lead Vocal(s)  Year  \\\n",
       "0  \"Across the Universe\"   Let It Be        Lennon        Lennon  1968   \n",
       "1  \"Across the Universe\"   Let It Be        Lennon        Lennon  1968   \n",
       "2  \"Across the Universe\"   Let It Be        Lennon        Lennon  1968   \n",
       "3  \"Across the Universe\"   Let It Be        Lennon        Lennon  1968   \n",
       "4  \"Across the Universe\"   Let It Be        Lennon        Lennon  1968   \n",
       "\n",
       "                                              Lyrics    words     lemma  \\\n",
       "0  Words are flowing out like endless rain into a...    Words  ['word']   \n",
       "1  Words are flowing out like endless rain into a...      are    ['be']   \n",
       "2  Words are flowing out like endless rain into a...  flowing  ['flow']   \n",
       "3  Words are flowing out like endless rain into a...      out   ['out']   \n",
       "4  Words are flowing out like endless rain into a...     like  ['like']   \n",
       "\n",
       "        pos  \n",
       "0  ['NOUN']  \n",
       "1   ['AUX']  \n",
       "2  ['VERB']  \n",
       "3   ['ADP']  \n",
       "4  ['INTJ']  "
      ]
     },
     "execution_count": 2,
     "metadata": {},
     "output_type": "execute_result"
    }
   ],
   "source": [
    "corpus = corpus.drop('Unnamed: 0', 1)\n",
    "corpus.head()"
   ]
  },
  {
   "cell_type": "code",
   "execution_count": 3,
   "metadata": {},
   "outputs": [
    {
     "data": {
      "text/html": [
       "<div>\n",
       "<style scoped>\n",
       "    .dataframe tbody tr th:only-of-type {\n",
       "        vertical-align: middle;\n",
       "    }\n",
       "\n",
       "    .dataframe tbody tr th {\n",
       "        vertical-align: top;\n",
       "    }\n",
       "\n",
       "    .dataframe thead th {\n",
       "        text-align: right;\n",
       "    }\n",
       "</style>\n",
       "<table border=\"1\" class=\"dataframe\">\n",
       "  <thead>\n",
       "    <tr style=\"text-align: right;\">\n",
       "      <th></th>\n",
       "      <th>Song</th>\n",
       "      <th>nb_words</th>\n",
       "    </tr>\n",
       "  </thead>\n",
       "  <tbody>\n",
       "    <tr>\n",
       "      <th>0</th>\n",
       "      <td>\"A Day in the Life\"</td>\n",
       "      <td>226</td>\n",
       "    </tr>\n",
       "    <tr>\n",
       "      <th>1</th>\n",
       "      <td>\"A Hard Day's Night\"</td>\n",
       "      <td>228</td>\n",
       "    </tr>\n",
       "    <tr>\n",
       "      <th>2</th>\n",
       "      <td>\"Across the Universe\"</td>\n",
       "      <td>250</td>\n",
       "    </tr>\n",
       "    <tr>\n",
       "      <th>3</th>\n",
       "      <td>\"All I've Got to Do\"</td>\n",
       "      <td>212</td>\n",
       "    </tr>\n",
       "    <tr>\n",
       "      <th>4</th>\n",
       "      <td>\"All My Loving\"</td>\n",
       "      <td>175</td>\n",
       "    </tr>\n",
       "    <tr>\n",
       "      <th>...</th>\n",
       "      <td>...</td>\n",
       "      <td>...</td>\n",
       "    </tr>\n",
       "    <tr>\n",
       "      <th>174</th>\n",
       "      <td>\"You Won't See Me\"</td>\n",
       "      <td>243</td>\n",
       "    </tr>\n",
       "    <tr>\n",
       "      <th>175</th>\n",
       "      <td>\"You'll Be Mine\"</td>\n",
       "      <td>117</td>\n",
       "    </tr>\n",
       "    <tr>\n",
       "      <th>176</th>\n",
       "      <td>\"You're Going to Lose That Girl\"</td>\n",
       "      <td>247</td>\n",
       "    </tr>\n",
       "    <tr>\n",
       "      <th>177</th>\n",
       "      <td>\"You've Got to Hide Your Love Away\"</td>\n",
       "      <td>125</td>\n",
       "    </tr>\n",
       "    <tr>\n",
       "      <th>178</th>\n",
       "      <td>\"Your Mother Should Know\"</td>\n",
       "      <td>206</td>\n",
       "    </tr>\n",
       "  </tbody>\n",
       "</table>\n",
       "<p>179 rows × 2 columns</p>\n",
       "</div>"
      ],
      "text/plain": [
       "                                    Song  nb_words\n",
       "0                    \"A Day in the Life\"       226\n",
       "1                   \"A Hard Day's Night\"       228\n",
       "2                  \"Across the Universe\"       250\n",
       "3                   \"All I've Got to Do\"       212\n",
       "4                        \"All My Loving\"       175\n",
       "..                                   ...       ...\n",
       "174                   \"You Won't See Me\"       243\n",
       "175                     \"You'll Be Mine\"       117\n",
       "176     \"You're Going to Lose That Girl\"       247\n",
       "177  \"You've Got to Hide Your Love Away\"       125\n",
       "178            \"Your Mother Should Know\"       206\n",
       "\n",
       "[179 rows x 2 columns]"
      ]
     },
     "execution_count": 3,
     "metadata": {},
     "output_type": "execute_result"
    }
   ],
   "source": [
    "# Sélection des colonnes 'Song' et 'words' :\n",
    "\n",
    "corpus_by_song = corpus[['Song', 'words']]\n",
    "\n",
    "# Dénombrement :\n",
    "\n",
    "count_by_song = corpus_by_song.groupby('Song').count()\n",
    "\n",
    "# Rename \n",
    "\n",
    "count_by_song.columns = ['nb_words']\n",
    "\n",
    "# & song into variable :\n",
    "\n",
    "count_by_song = count_by_song.reset_index(level=['Song'])\n",
    "\n",
    "count_by_song"
   ]
  },
  {
   "cell_type": "code",
   "execution_count": 8,
   "metadata": {},
   "outputs": [
    {
     "data": {
      "text/html": [
       "<div>\n",
       "<style scoped>\n",
       "    .dataframe tbody tr th:only-of-type {\n",
       "        vertical-align: middle;\n",
       "    }\n",
       "\n",
       "    .dataframe tbody tr th {\n",
       "        vertical-align: top;\n",
       "    }\n",
       "\n",
       "    .dataframe thead th {\n",
       "        text-align: right;\n",
       "    }\n",
       "</style>\n",
       "<table border=\"1\" class=\"dataframe\">\n",
       "  <thead>\n",
       "    <tr style=\"text-align: right;\">\n",
       "      <th></th>\n",
       "      <th>Song</th>\n",
       "      <th>Songwriter(s)</th>\n",
       "      <th>nb_words</th>\n",
       "    </tr>\n",
       "  </thead>\n",
       "  <tbody>\n",
       "    <tr>\n",
       "      <th>0</th>\n",
       "      <td>\"A Day in the Life\"</td>\n",
       "      <td>Lennon-McCartney</td>\n",
       "      <td>226</td>\n",
       "    </tr>\n",
       "    <tr>\n",
       "      <th>1</th>\n",
       "      <td>\"A Hard Day's Night\"</td>\n",
       "      <td>Lennon-McCartney</td>\n",
       "      <td>228</td>\n",
       "    </tr>\n",
       "    <tr>\n",
       "      <th>2</th>\n",
       "      <td>\"Across the Universe\"</td>\n",
       "      <td>Lennon</td>\n",
       "      <td>250</td>\n",
       "    </tr>\n",
       "    <tr>\n",
       "      <th>3</th>\n",
       "      <td>\"All I've Got to Do\"</td>\n",
       "      <td>Lennon</td>\n",
       "      <td>212</td>\n",
       "    </tr>\n",
       "    <tr>\n",
       "      <th>4</th>\n",
       "      <td>\"All My Loving\"</td>\n",
       "      <td>McCartney</td>\n",
       "      <td>175</td>\n",
       "    </tr>\n",
       "    <tr>\n",
       "      <th>...</th>\n",
       "      <td>...</td>\n",
       "      <td>...</td>\n",
       "      <td>...</td>\n",
       "    </tr>\n",
       "    <tr>\n",
       "      <th>174</th>\n",
       "      <td>\"You Won't See Me\"</td>\n",
       "      <td>McCartney</td>\n",
       "      <td>243</td>\n",
       "    </tr>\n",
       "    <tr>\n",
       "      <th>175</th>\n",
       "      <td>\"You'll Be Mine\"</td>\n",
       "      <td>Lennon-McCartney</td>\n",
       "      <td>117</td>\n",
       "    </tr>\n",
       "    <tr>\n",
       "      <th>176</th>\n",
       "      <td>\"You're Going to Lose That Girl\"</td>\n",
       "      <td>Lennon</td>\n",
       "      <td>247</td>\n",
       "    </tr>\n",
       "    <tr>\n",
       "      <th>177</th>\n",
       "      <td>\"You've Got to Hide Your Love Away\"</td>\n",
       "      <td>Lennon</td>\n",
       "      <td>125</td>\n",
       "    </tr>\n",
       "    <tr>\n",
       "      <th>178</th>\n",
       "      <td>\"Your Mother Should Know\"</td>\n",
       "      <td>McCartney</td>\n",
       "      <td>206</td>\n",
       "    </tr>\n",
       "  </tbody>\n",
       "</table>\n",
       "<p>179 rows × 3 columns</p>\n",
       "</div>"
      ],
      "text/plain": [
       "                                    Song     Songwriter(s)  nb_words\n",
       "0                    \"A Day in the Life\"  Lennon-McCartney       226\n",
       "1                   \"A Hard Day's Night\"  Lennon-McCartney       228\n",
       "2                  \"Across the Universe\"            Lennon       250\n",
       "3                   \"All I've Got to Do\"            Lennon       212\n",
       "4                        \"All My Loving\"         McCartney       175\n",
       "..                                   ...               ...       ...\n",
       "174                   \"You Won't See Me\"         McCartney       243\n",
       "175                     \"You'll Be Mine\"  Lennon-McCartney       117\n",
       "176     \"You're Going to Lose That Girl\"            Lennon       247\n",
       "177  \"You've Got to Hide Your Love Away\"            Lennon       125\n",
       "178            \"Your Mother Should Know\"         McCartney       206\n",
       "\n",
       "[179 rows x 3 columns]"
      ]
     },
     "execution_count": 8,
     "metadata": {},
     "output_type": "execute_result"
    }
   ],
   "source": [
    "# Ajout de la colonne Songwriter(s) sur la base de corpus_clean_select :\n",
    "# => merge\n",
    "\n",
    "corpus_clean_select = pd.read_csv('corpus_nettoye.csv', index_col=None)\n",
    "\n",
    "df = pd.merge(count_by_song, corpus_clean_select, on=['Song'])\n",
    "\n",
    "# Sélection des colonnes qui nous intéressent :\n",
    "\n",
    "count_by_song = df[['Song', 'Songwriter(s)', 'nb_words']]\n",
    "\n",
    "count_by_song"
   ]
  },
  {
   "cell_type": "code",
   "execution_count": 9,
   "metadata": {},
   "outputs": [
    {
     "data": {
      "text/html": [
       "<div>\n",
       "<style scoped>\n",
       "    .dataframe tbody tr th:only-of-type {\n",
       "        vertical-align: middle;\n",
       "    }\n",
       "\n",
       "    .dataframe tbody tr th {\n",
       "        vertical-align: top;\n",
       "    }\n",
       "\n",
       "    .dataframe thead th {\n",
       "        text-align: right;\n",
       "    }\n",
       "</style>\n",
       "<table border=\"1\" class=\"dataframe\">\n",
       "  <thead>\n",
       "    <tr style=\"text-align: right;\">\n",
       "      <th></th>\n",
       "      <th>nb_words</th>\n",
       "    </tr>\n",
       "  </thead>\n",
       "  <tbody>\n",
       "    <tr>\n",
       "      <th>count</th>\n",
       "      <td>179.000000</td>\n",
       "    </tr>\n",
       "    <tr>\n",
       "      <th>mean</th>\n",
       "      <td>201.558659</td>\n",
       "    </tr>\n",
       "    <tr>\n",
       "      <th>std</th>\n",
       "      <td>74.195617</td>\n",
       "    </tr>\n",
       "    <tr>\n",
       "      <th>min</th>\n",
       "      <td>22.000000</td>\n",
       "    </tr>\n",
       "    <tr>\n",
       "      <th>25%</th>\n",
       "      <td>155.000000</td>\n",
       "    </tr>\n",
       "    <tr>\n",
       "      <th>50%</th>\n",
       "      <td>202.000000</td>\n",
       "    </tr>\n",
       "    <tr>\n",
       "      <th>75%</th>\n",
       "      <td>242.500000</td>\n",
       "    </tr>\n",
       "    <tr>\n",
       "      <th>max</th>\n",
       "      <td>445.000000</td>\n",
       "    </tr>\n",
       "  </tbody>\n",
       "</table>\n",
       "</div>"
      ],
      "text/plain": [
       "         nb_words\n",
       "count  179.000000\n",
       "mean   201.558659\n",
       "std     74.195617\n",
       "min     22.000000\n",
       "25%    155.000000\n",
       "50%    202.000000\n",
       "75%    242.500000\n",
       "max    445.000000"
      ]
     },
     "execution_count": 9,
     "metadata": {},
     "output_type": "execute_result"
    }
   ],
   "source": [
    "# Moyenne / médiane générale (graph)\n",
    "# Moyenne / médiane par auteur (graph):\n",
    "# Boxplot comparatif.\n",
    "# ==> Matrice de corrélation auteur / longueur ?\n",
    "\n",
    "import matplotlib.pyplot as plt\n",
    "\n",
    "count_by_song.describe()"
   ]
  },
  {
   "cell_type": "code",
   "execution_count": 10,
   "metadata": {},
   "outputs": [
    {
     "data": {
      "text/html": [
       "<div>\n",
       "<style scoped>\n",
       "    .dataframe tbody tr th:only-of-type {\n",
       "        vertical-align: middle;\n",
       "    }\n",
       "\n",
       "    .dataframe tbody tr th {\n",
       "        vertical-align: top;\n",
       "    }\n",
       "\n",
       "    .dataframe thead th {\n",
       "        text-align: right;\n",
       "    }\n",
       "</style>\n",
       "<table border=\"1\" class=\"dataframe\">\n",
       "  <thead>\n",
       "    <tr style=\"text-align: right;\">\n",
       "      <th></th>\n",
       "      <th>Song</th>\n",
       "      <th>Songwriter(s)</th>\n",
       "      <th>nb_words</th>\n",
       "    </tr>\n",
       "  </thead>\n",
       "  <tbody>\n",
       "    <tr>\n",
       "      <th>164</th>\n",
       "      <td>\"Wild Honey Pie\"</td>\n",
       "      <td>McCartney</td>\n",
       "      <td>22</td>\n",
       "    </tr>\n",
       "  </tbody>\n",
       "</table>\n",
       "</div>"
      ],
      "text/plain": [
       "                 Song Songwriter(s)  nb_words\n",
       "164  \"Wild Honey Pie\"     McCartney        22"
      ]
     },
     "execution_count": 10,
     "metadata": {},
     "output_type": "execute_result"
    }
   ],
   "source": [
    "# min 1 mot ???\n",
    "# count_by_song.loc[(count_by_song['nb_words'] == 1)]\n",
    "\n",
    "# = Cayenne\n",
    "## ==> Besoin de retirer les NaN précédemment : OK.\n",
    "## ==> Retour en arrière : retrait NaN et \\n dans les paroles.\n",
    "\n",
    "# 22 paroles ?\n",
    "\n",
    "count_by_song.loc[(count_by_song['nb_words'] == 22)]\n",
    "\n",
    "# ==> Wild Honey Pie : https://www.youtube.com/watch?v=l-ekNlk5VDM : ok !"
   ]
  },
  {
   "cell_type": "code",
   "execution_count": 11,
   "metadata": {},
   "outputs": [],
   "source": [
    "# Création de trois corpus :\n",
    "\n",
    "corpus_Lennon = count_by_song.loc[(count_by_song['Songwriter(s)'] == \"Lennon\")]\n",
    "corpus_McCartney = count_by_song.loc[(count_by_song['Songwriter(s)'] == \"McCartney\")]\n",
    "corpus_LMC = count_by_song.loc[(count_by_song['Songwriter(s)'] == \"Lennon-McCartney\")]"
   ]
  },
  {
   "cell_type": "code",
   "execution_count": 12,
   "metadata": {},
   "outputs": [
    {
     "data": {
      "text/plain": [
       "Text(221.71452513966483, 18.0, '201.56')"
      ]
     },
     "execution_count": 12,
     "metadata": {},
     "output_type": "execute_result"
    },
    {
     "data": {
      "image/png": "[encoded data removed]",
      "text/plain": [
       "<Figure size 432x288 with 1 Axes>"
      ]
     },
     "metadata": {
      "needs_background": "light"
     },
     "output_type": "display_data"
    }
   ],
   "source": [
    "# Corpus complet :\n",
    "\n",
    "plt.hist(count_by_song[\"nb_words\"], density=False, bins=30)  # density=False would make counts\n",
    "plt.ylabel('n')\n",
    "plt.xlabel('nb_words')\n",
    "plt.title('Corpus complet')\n",
    "# Ajout ligne moyenne et médiane :\n",
    "min_ylim, max_ylim = plt.ylim(0,20)\n",
    "plt.axvline(count_by_song['nb_words'].mean(), color='k', linestyle='dashed', linewidth=1)\n",
    "plt.text(count_by_song['nb_words'].mean()*1.1, max_ylim*0.9, '{:.2f}'.format(count_by_song['nb_words'].mean()))"
   ]
  },
  {
   "cell_type": "code",
   "execution_count": 13,
   "metadata": {},
   "outputs": [
    {
     "data": {
      "text/html": [
       "<div>\n",
       "<style scoped>\n",
       "    .dataframe tbody tr th:only-of-type {\n",
       "        vertical-align: middle;\n",
       "    }\n",
       "\n",
       "    .dataframe tbody tr th {\n",
       "        vertical-align: top;\n",
       "    }\n",
       "\n",
       "    .dataframe thead th {\n",
       "        text-align: right;\n",
       "    }\n",
       "</style>\n",
       "<table border=\"1\" class=\"dataframe\">\n",
       "  <thead>\n",
       "    <tr style=\"text-align: right;\">\n",
       "      <th></th>\n",
       "      <th>nb_words</th>\n",
       "    </tr>\n",
       "  </thead>\n",
       "  <tbody>\n",
       "    <tr>\n",
       "      <th>count</th>\n",
       "      <td>60.000000</td>\n",
       "    </tr>\n",
       "    <tr>\n",
       "      <th>mean</th>\n",
       "      <td>201.700000</td>\n",
       "    </tr>\n",
       "    <tr>\n",
       "      <th>std</th>\n",
       "      <td>71.076302</td>\n",
       "    </tr>\n",
       "    <tr>\n",
       "      <th>min</th>\n",
       "      <td>43.000000</td>\n",
       "    </tr>\n",
       "    <tr>\n",
       "      <th>25%</th>\n",
       "      <td>157.750000</td>\n",
       "    </tr>\n",
       "    <tr>\n",
       "      <th>50%</th>\n",
       "      <td>207.000000</td>\n",
       "    </tr>\n",
       "    <tr>\n",
       "      <th>75%</th>\n",
       "      <td>238.250000</td>\n",
       "    </tr>\n",
       "    <tr>\n",
       "      <th>max</th>\n",
       "      <td>364.000000</td>\n",
       "    </tr>\n",
       "  </tbody>\n",
       "</table>\n",
       "</div>"
      ],
      "text/plain": [
       "         nb_words\n",
       "count   60.000000\n",
       "mean   201.700000\n",
       "std     71.076302\n",
       "min     43.000000\n",
       "25%    157.750000\n",
       "50%    207.000000\n",
       "75%    238.250000\n",
       "max    364.000000"
      ]
     },
     "execution_count": 13,
     "metadata": {},
     "output_type": "execute_result"
    }
   ],
   "source": [
    "corpus_Lennon.describe()"
   ]
  },
  {
   "cell_type": "code",
   "execution_count": 14,
   "metadata": {},
   "outputs": [
    {
     "data": {
      "text/plain": [
       "Text(227.70000000000002, 9.0, '207.00')"
      ]
     },
     "execution_count": 14,
     "metadata": {},
     "output_type": "execute_result"
    },
    {
     "data": {
      "image/png": "[encoded data removed]",
      "text/plain": [
       "<Figure size 432x288 with 1 Axes>"
      ]
     },
     "metadata": {
      "needs_background": "light"
     },
     "output_type": "display_data"
    }
   ],
   "source": [
    "# Corpus Lennon : \n",
    "\n",
    "plt.hist(corpus_Lennon[\"nb_words\"], density=False, bins=30, color='#0C9E79')  \n",
    "plt.ylabel('n')\n",
    "plt.xlabel('nb_words')\n",
    "plt.title('Corpus Lennon')\n",
    "# Ajout ligne moyenne et médiane :\n",
    "min_ylim, max_ylim = plt.ylim(0,10) # Même échelle pour comparaison !\n",
    "# plt.axvline(corpus_Lennon['nb_words'].mean(), color='k', linestyle='dashed', linewidth=1)\n",
    "# plt.text(corpus_Lennon['nb_words'].mean()*1.1, max_ylim*0.8, '{:.2f}'.format(corpus_Lennon['nb_words'].mean()))\n",
    "plt.axvline(corpus_Lennon['nb_words'].median(), color='k', linestyle='dashed', linewidth=1)\n",
    "plt.text(corpus_Lennon['nb_words'].median()*1.1, max_ylim*0.9, '{:.2f}'.format(corpus_Lennon['nb_words'].median()))"
   ]
  },
  {
   "cell_type": "code",
   "execution_count": 15,
   "metadata": {},
   "outputs": [
    {
     "data": {
      "text/plain": [
       "Text(201.3, 9.0, '183.00')"
      ]
     },
     "execution_count": 15,
     "metadata": {},
     "output_type": "execute_result"
    },
    {
     "data": {
      "image/png": "[encoded data removed]",
      "text/plain": [
       "<Figure size 432x288 with 1 Axes>"
      ]
     },
     "metadata": {
      "needs_background": "light"
     },
     "output_type": "display_data"
    }
   ],
   "source": [
    "# Corpus McCartney :\n",
    "\n",
    "plt.hist(corpus_McCartney[\"nb_words\"], density=False, bins=30, color=\"#FEBA51\")\n",
    "plt.ylabel('n')\n",
    "plt.ylim(0, 10)\n",
    "plt.xlabel('nb_words')\n",
    "plt.title('Corpus McCartney')\n",
    "# Ajout ligne médiane :\n",
    "min_ylim, max_ylim = plt.ylim(0,10) # Même échelle pour comparaison !\n",
    "plt.axvline(corpus_McCartney['nb_words'].median(), color='k', linestyle='dashed', linewidth=1)\n",
    "plt.text(corpus_McCartney['nb_words'].median()*1.1, max_ylim*0.9, '{:.2f}'.format(corpus_McCartney['nb_words'].median()))"
   ]
  },
  {
   "cell_type": "code",
   "execution_count": 16,
   "metadata": {},
   "outputs": [
    {
     "data": {
      "text/plain": [
       "Text(233.75000000000003, 9.0, '212.50')"
      ]
     },
     "execution_count": 16,
     "metadata": {},
     "output_type": "execute_result"
    },
    {
     "data": {
      "image/png": "[encoded data removed]",
      "text/plain": [
       "<Figure size 432x288 with 1 Axes>"
      ]
     },
     "metadata": {
      "needs_background": "light"
     },
     "output_type": "display_data"
    }
   ],
   "source": [
    "plt.hist(corpus_LMC[\"nb_words\"], density=False, bins=30, color=\"#C51112\")\n",
    "plt.ylim(0, 10)\n",
    "plt.ylabel('n')\n",
    "plt.xlabel('nb_words')\n",
    "plt.title('Corpus L-MC')\n",
    "# Ajout ligne médiane :\n",
    "min_ylim, max_ylim = plt.ylim(0,10) # Même échelle pour comparaison !\n",
    "plt.axvline(corpus_LMC['nb_words'].median(), color='k', linestyle='dashed', linewidth=1)\n",
    "plt.text(corpus_LMC['nb_words'].median()*1.1, max_ylim*0.9, '{:.2f}'.format(corpus_LMC['nb_words'].median()))\n",
    "\n"
   ]
  },
  {
   "cell_type": "code",
   "execution_count": 17,
   "metadata": {},
   "outputs": [
    {
     "data": {
      "text/html": [
       "<div>\n",
       "<style scoped>\n",
       "    .dataframe tbody tr th:only-of-type {\n",
       "        vertical-align: middle;\n",
       "    }\n",
       "\n",
       "    .dataframe tbody tr th {\n",
       "        vertical-align: top;\n",
       "    }\n",
       "\n",
       "    .dataframe thead th {\n",
       "        text-align: right;\n",
       "    }\n",
       "</style>\n",
       "<table border=\"1\" class=\"dataframe\">\n",
       "  <thead>\n",
       "    <tr style=\"text-align: right;\">\n",
       "      <th></th>\n",
       "      <th>nb_words</th>\n",
       "    </tr>\n",
       "  </thead>\n",
       "  <tbody>\n",
       "    <tr>\n",
       "      <th>count</th>\n",
       "      <td>60.000000</td>\n",
       "    </tr>\n",
       "    <tr>\n",
       "      <th>mean</th>\n",
       "      <td>201.700000</td>\n",
       "    </tr>\n",
       "    <tr>\n",
       "      <th>std</th>\n",
       "      <td>71.076302</td>\n",
       "    </tr>\n",
       "    <tr>\n",
       "      <th>min</th>\n",
       "      <td>43.000000</td>\n",
       "    </tr>\n",
       "    <tr>\n",
       "      <th>25%</th>\n",
       "      <td>157.750000</td>\n",
       "    </tr>\n",
       "    <tr>\n",
       "      <th>50%</th>\n",
       "      <td>207.000000</td>\n",
       "    </tr>\n",
       "    <tr>\n",
       "      <th>75%</th>\n",
       "      <td>238.250000</td>\n",
       "    </tr>\n",
       "    <tr>\n",
       "      <th>max</th>\n",
       "      <td>364.000000</td>\n",
       "    </tr>\n",
       "  </tbody>\n",
       "</table>\n",
       "</div>"
      ],
      "text/plain": [
       "         nb_words\n",
       "count   60.000000\n",
       "mean   201.700000\n",
       "std     71.076302\n",
       "min     43.000000\n",
       "25%    157.750000\n",
       "50%    207.000000\n",
       "75%    238.250000\n",
       "max    364.000000"
      ]
     },
     "metadata": {},
     "output_type": "display_data"
    },
    {
     "data": {
      "text/html": [
       "<div>\n",
       "<style scoped>\n",
       "    .dataframe tbody tr th:only-of-type {\n",
       "        vertical-align: middle;\n",
       "    }\n",
       "\n",
       "    .dataframe tbody tr th {\n",
       "        vertical-align: top;\n",
       "    }\n",
       "\n",
       "    .dataframe thead th {\n",
       "        text-align: right;\n",
       "    }\n",
       "</style>\n",
       "<table border=\"1\" class=\"dataframe\">\n",
       "  <thead>\n",
       "    <tr style=\"text-align: right;\">\n",
       "      <th></th>\n",
       "      <th>nb_words</th>\n",
       "    </tr>\n",
       "  </thead>\n",
       "  <tbody>\n",
       "    <tr>\n",
       "      <th>count</th>\n",
       "      <td>59.000000</td>\n",
       "    </tr>\n",
       "    <tr>\n",
       "      <th>mean</th>\n",
       "      <td>191.525424</td>\n",
       "    </tr>\n",
       "    <tr>\n",
       "      <th>std</th>\n",
       "      <td>87.414856</td>\n",
       "    </tr>\n",
       "    <tr>\n",
       "      <th>min</th>\n",
       "      <td>22.000000</td>\n",
       "    </tr>\n",
       "    <tr>\n",
       "      <th>25%</th>\n",
       "      <td>136.500000</td>\n",
       "    </tr>\n",
       "    <tr>\n",
       "      <th>50%</th>\n",
       "      <td>183.000000</td>\n",
       "    </tr>\n",
       "    <tr>\n",
       "      <th>75%</th>\n",
       "      <td>232.500000</td>\n",
       "    </tr>\n",
       "    <tr>\n",
       "      <th>max</th>\n",
       "      <td>445.000000</td>\n",
       "    </tr>\n",
       "  </tbody>\n",
       "</table>\n",
       "</div>"
      ],
      "text/plain": [
       "         nb_words\n",
       "count   59.000000\n",
       "mean   191.525424\n",
       "std     87.414856\n",
       "min     22.000000\n",
       "25%    136.500000\n",
       "50%    183.000000\n",
       "75%    232.500000\n",
       "max    445.000000"
      ]
     },
     "metadata": {},
     "output_type": "display_data"
    },
    {
     "data": {
      "text/html": [
       "<div>\n",
       "<style scoped>\n",
       "    .dataframe tbody tr th:only-of-type {\n",
       "        vertical-align: middle;\n",
       "    }\n",
       "\n",
       "    .dataframe tbody tr th {\n",
       "        vertical-align: top;\n",
       "    }\n",
       "\n",
       "    .dataframe thead th {\n",
       "        text-align: right;\n",
       "    }\n",
       "</style>\n",
       "<table border=\"1\" class=\"dataframe\">\n",
       "  <thead>\n",
       "    <tr style=\"text-align: right;\">\n",
       "      <th></th>\n",
       "      <th>nb_words</th>\n",
       "    </tr>\n",
       "  </thead>\n",
       "  <tbody>\n",
       "    <tr>\n",
       "      <th>count</th>\n",
       "      <td>60.000000</td>\n",
       "    </tr>\n",
       "    <tr>\n",
       "      <th>mean</th>\n",
       "      <td>211.283333</td>\n",
       "    </tr>\n",
       "    <tr>\n",
       "      <th>std</th>\n",
       "      <td>62.030089</td>\n",
       "    </tr>\n",
       "    <tr>\n",
       "      <th>min</th>\n",
       "      <td>90.000000</td>\n",
       "    </tr>\n",
       "    <tr>\n",
       "      <th>25%</th>\n",
       "      <td>174.250000</td>\n",
       "    </tr>\n",
       "    <tr>\n",
       "      <th>50%</th>\n",
       "      <td>212.500000</td>\n",
       "    </tr>\n",
       "    <tr>\n",
       "      <th>75%</th>\n",
       "      <td>248.500000</td>\n",
       "    </tr>\n",
       "    <tr>\n",
       "      <th>max</th>\n",
       "      <td>339.000000</td>\n",
       "    </tr>\n",
       "  </tbody>\n",
       "</table>\n",
       "</div>"
      ],
      "text/plain": [
       "         nb_words\n",
       "count   60.000000\n",
       "mean   211.283333\n",
       "std     62.030089\n",
       "min     90.000000\n",
       "25%    174.250000\n",
       "50%    212.500000\n",
       "75%    248.500000\n",
       "max    339.000000"
      ]
     },
     "metadata": {},
     "output_type": "display_data"
    }
   ],
   "source": [
    "# https://stackoverflow.com/questions/38783027/jupyter-notebook-display-two-pandas-tables-side-by-side\n",
    "\n",
    "from IPython.display import display, HTML\n",
    "\n",
    "CSS = \"\"\"\n",
    "div.cell:nth-child(45) .output {\n",
    "    flex-direction: row;\n",
    "}\n",
    "\"\"\"\n",
    "HTML('<style>{}</style>'.format(CSS))\n",
    "\n",
    "# 46 = indice de la cellule.\n",
    "\n",
    "display(corpus_Lennon.describe())\n",
    "display(corpus_McCartney.describe())\n",
    "display(corpus_LMC.describe())\n"
   ]
  },
  {
   "cell_type": "code",
   "execution_count": null,
   "metadata": {},
   "outputs": [],
   "source": [
    "# Question : Est-ce que la moyenne est le meilleur indicateur ?"
   ]
  },
  {
   "cell_type": "code",
   "execution_count": 18,
   "metadata": {},
   "outputs": [
    {
     "data": {
      "text/html": [
       "<div>\n",
       "<style scoped>\n",
       "    .dataframe tbody tr th:only-of-type {\n",
       "        vertical-align: middle;\n",
       "    }\n",
       "\n",
       "    .dataframe tbody tr th {\n",
       "        vertical-align: top;\n",
       "    }\n",
       "\n",
       "    .dataframe thead th {\n",
       "        text-align: right;\n",
       "    }\n",
       "</style>\n",
       "<table border=\"1\" class=\"dataframe\">\n",
       "  <thead>\n",
       "    <tr style=\"text-align: right;\">\n",
       "      <th></th>\n",
       "      <th>index</th>\n",
       "      <th>Song</th>\n",
       "      <th>Songwriter(s)</th>\n",
       "      <th>nb_words</th>\n",
       "    </tr>\n",
       "  </thead>\n",
       "  <tbody>\n",
       "    <tr>\n",
       "      <th>0</th>\n",
       "      <td>0</td>\n",
       "      <td>\"A Day in the Life\"</td>\n",
       "      <td>Lennon-McCartney</td>\n",
       "      <td>226</td>\n",
       "    </tr>\n",
       "    <tr>\n",
       "      <th>1</th>\n",
       "      <td>1</td>\n",
       "      <td>\"A Hard Day's Night\"</td>\n",
       "      <td>Lennon-McCartney</td>\n",
       "      <td>228</td>\n",
       "    </tr>\n",
       "  </tbody>\n",
       "</table>\n",
       "</div>"
      ],
      "text/plain": [
       "   index                  Song     Songwriter(s)  nb_words\n",
       "0      0   \"A Day in the Life\"  Lennon-McCartney       226\n",
       "1      1  \"A Hard Day's Night\"  Lennon-McCartney       228"
      ]
     },
     "execution_count": 18,
     "metadata": {},
     "output_type": "execute_result"
    }
   ],
   "source": [
    "# Mise en place d'un index : \n",
    "\n",
    "count_by_song = count_by_song.reset_index()\n",
    "\n",
    "count_by_song[:2]\n"
   ]
  },
  {
   "cell_type": "code",
   "execution_count": 21,
   "metadata": {},
   "outputs": [
    {
     "data": {
      "text/plain": [
       "Text(0.5, 1.0, 'Corpus complet')"
      ]
     },
     "execution_count": 21,
     "metadata": {},
     "output_type": "execute_result"
    },
    {
     "data": {
      "image/png": "[encoded data removed]",
      "text/plain": [
       "<Figure size 432x288 with 1 Axes>"
      ]
     },
     "metadata": {
      "needs_background": "light"
     },
     "output_type": "display_data"
    }
   ],
   "source": [
    "# Scatterplot corpus complet :\n",
    "\n",
    "import seaborn as sns\n",
    "\n",
    "sns.regplot(x=count_by_song[\"index\"], y=count_by_song[\"nb_words\"], fit_reg=True).set_title(\"Corpus complet\")\n",
    "\n",
    "# NB : By default, a linear regression fit is plotted. It can be removed from graph by setting fit_reg=False."
   ]
  },
  {
   "cell_type": "code",
   "execution_count": 22,
   "metadata": {},
   "outputs": [
    {
     "data": {
      "text/html": [
       "<div>\n",
       "<style scoped>\n",
       "    .dataframe tbody tr th:only-of-type {\n",
       "        vertical-align: middle;\n",
       "    }\n",
       "\n",
       "    .dataframe tbody tr th {\n",
       "        vertical-align: top;\n",
       "    }\n",
       "\n",
       "    .dataframe thead th {\n",
       "        text-align: right;\n",
       "    }\n",
       "</style>\n",
       "<table border=\"1\" class=\"dataframe\">\n",
       "  <thead>\n",
       "    <tr style=\"text-align: right;\">\n",
       "      <th></th>\n",
       "      <th>Song</th>\n",
       "      <th>Songwriter(s)</th>\n",
       "      <th>nb_words</th>\n",
       "    </tr>\n",
       "  </thead>\n",
       "  <tbody>\n",
       "    <tr>\n",
       "      <th>2</th>\n",
       "      <td>\"Across the Universe\"</td>\n",
       "      <td>Lennon</td>\n",
       "      <td>250</td>\n",
       "    </tr>\n",
       "    <tr>\n",
       "      <th>3</th>\n",
       "      <td>\"All I've Got to Do\"</td>\n",
       "      <td>Lennon</td>\n",
       "      <td>212</td>\n",
       "    </tr>\n",
       "    <tr>\n",
       "      <th>6</th>\n",
       "      <td>\"All You Need Is Love\"</td>\n",
       "      <td>Lennon</td>\n",
       "      <td>302</td>\n",
       "    </tr>\n",
       "  </tbody>\n",
       "</table>\n",
       "</div>"
      ],
      "text/plain": [
       "                     Song Songwriter(s)  nb_words\n",
       "2   \"Across the Universe\"        Lennon       250\n",
       "3    \"All I've Got to Do\"        Lennon       212\n",
       "6  \"All You Need Is Love\"        Lennon       302"
      ]
     },
     "execution_count": 22,
     "metadata": {},
     "output_type": "execute_result"
    }
   ],
   "source": [
    "# Interprétation ?\n",
    "# Pourquoi avoir laissé la régression linéaire ici ? Est-ce pertinent ?"
   ]
  },
  {
   "cell_type": "code",
   "execution_count": 23,
   "metadata": {},
   "outputs": [
    {
     "data": {
      "text/plain": [
       "Text(0.5, 1.0, 'Corpus Lennon')"
      ]
     },
     "execution_count": 23,
     "metadata": {},
     "output_type": "execute_result"
    },
    {
     "data": {
      "image/png": "[encoded data removed]",
      "text/plain": [
       "<Figure size 432x288 with 1 Axes>"
      ]
     },
     "metadata": {
      "needs_background": "light"
     },
     "output_type": "display_data"
    }
   ],
   "source": [
    "## Scatterplot corpus Lennon :\n",
    "\n",
    "corpus_Lennon = corpus_Lennon.reset_index()\n",
    "\n",
    "sns.regplot(x=corpus_Lennon[\"index\"], y=corpus_Lennon[\"nb_words\"], fit_reg=True).set_title(\"Corpus Lennon\")"
   ]
  },
  {
   "cell_type": "code",
   "execution_count": 24,
   "metadata": {},
   "outputs": [
    {
     "data": {
      "text/plain": [
       "Text(0.5, 1.0, 'Corpus McCartney')"
      ]
     },
     "execution_count": 24,
     "metadata": {},
     "output_type": "execute_result"
    },
    {
     "data": {
      "image/png": "[encoded data removed]",
      "text/plain": [
       "<Figure size 432x288 with 1 Axes>"
      ]
     },
     "metadata": {
      "needs_background": "light"
     },
     "output_type": "display_data"
    }
   ],
   "source": [
    "## Scatterplot corpus McCartney :\n",
    "\n",
    "corpus_McCartney = corpus_McCartney.reset_index()\n",
    "\n",
    "sns.regplot(x=corpus_McCartney[\"index\"], y=corpus_McCartney[\"nb_words\"], fit_reg=True).set_title(\"Corpus McCartney\")"
   ]
  },
  {
   "cell_type": "code",
   "execution_count": 25,
   "metadata": {},
   "outputs": [
    {
     "data": {
      "text/plain": [
       "Text(0.5, 1.0, 'Corpus LMC')"
      ]
     },
     "execution_count": 25,
     "metadata": {},
     "output_type": "execute_result"
    },
    {
     "data": {
      "image/png": "[encoded data removed]",
      "text/plain": [
       "<Figure size 432x288 with 1 Axes>"
      ]
     },
     "metadata": {
      "needs_background": "light"
     },
     "output_type": "display_data"
    }
   ],
   "source": [
    "## Scatterplot corpus Lennon-McCartney :\n",
    "\n",
    "corpus_LMC = corpus_LMC.reset_index()\n",
    "\n",
    "sns.regplot(x=corpus_LMC[\"index\"], y=corpus_LMC[\"nb_words\"], fit_reg=True).set_title(\"Corpus LMC\")\n"
   ]
  },
  {
   "cell_type": "code",
   "execution_count": null,
   "metadata": {},
   "outputs": [],
   "source": [
    "# Retour réflexif : est-ce que ça a un sens réellement ? Sur quoi se fonde-t-on pour établir ces visualisations ?\n",
    "# Comment faire pour que ça en est ?\n",
    "\n",
    "## Pistes : \n",
    "\n",
    "### Approche diachronique ?\n",
    "### Calcul de la pente ?\n",
    "### Autre ?"
   ]
  },
  {
   "cell_type": "code",
   "execution_count": 26,
   "metadata": {},
   "outputs": [
    {
     "data": {
      "image/png": "[encoded data removed]",
      "text/plain": [
       "<Figure size 432x288 with 1 Axes>"
      ]
     },
     "metadata": {
      "needs_background": "light"
     },
     "output_type": "display_data"
    }
   ],
   "source": [
    "# Boxplot\n",
    "\n",
    "import seaborn as sns\n",
    "\n",
    "ax = sns.boxplot(x=\"Songwriter(s)\", y=\"nb_words\", data=count_by_song)"
   ]
  },
  {
   "cell_type": "code",
   "execution_count": null,
   "metadata": {},
   "outputs": [],
   "source": [
    "# Sur les boxplots : Cf. Michael Galarnyk, https://towardsdatascience.com/understanding-boxplots-5e2df7bcbd51."
   ]
  },
  {
   "cell_type": "code",
   "execution_count": null,
   "metadata": {},
   "outputs": [],
   "source": [
    "## Lecture & interprétation des résultats :\n",
    "\n",
    "\n"
   ]
  },
  {
   "cell_type": "markdown",
   "metadata": {},
   "source": [
    "Autres propositions pour enrichir les statistiques descriptives : \n",
    "    \n",
    "   - Analyse de la longueur des phrases et confrontation des différents corpus (ex : https://spacy.io/usage/linguistic-features#custom-tokenizer).\n",
    "   - Analyse de la richesse lexicale (ex : https://pypi.org/project/lexical-diversity/)."
   ]
  },
  {
   "cell_type": "code",
   "execution_count": null,
   "metadata": {},
   "outputs": [],
   "source": []
  }
 ],
 "metadata": {
  "kernelspec": {
   "display_name": "Python 3",
   "language": "python",
   "name": "python3"
  },
  "language_info": {
   "codemirror_mode": {
    "name": "ipython",
    "version": 3
   },
   "file_extension": ".py",
   "mimetype": "text/x-python",
   "name": "python",
   "nbconvert_exporter": "python",
   "pygments_lexer": "ipython3",
   "version": "3.7.10"
  }
 },
 "nbformat": 4,
 "nbformat_minor": 4
}
